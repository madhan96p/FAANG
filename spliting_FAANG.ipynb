{
 "cells": [
  {
   "cell_type": "code",
   "execution_count": 1,
   "metadata": {},
   "outputs": [],
   "source": [
    "import pandas as pd\n",
    "pd.set_option('display.max_columns', None)  # Shows all columns\n",
    "pd.set_option('display.width', None)  # Shows full width\n",
    "pd.set_option('display.max_colwidth', None) # Shows full content of the columns\n",
    "\n",
    "df = pd.read_csv('FAANG.csv')"
   ]
  },
  {
   "cell_type": "markdown",
   "metadata": {},
   "source": [
    "# Spliting FAANG Companies\n",
    "Im just splited my data into 5 due to various company"
   ]
  },
  {
   "cell_type": "code",
   "execution_count": 2,
   "metadata": {},
   "outputs": [],
   "source": [
    "facebook_data = df[df['Company'] == 'Facebook']\n",
    "apple_data = df[df['Company'] == 'Apple']\n",
    "amazon_data = df[df['Company'] == 'Amazon']\n",
    "netflix_data = df[df['Company'] == 'Netflix']\n",
    "google_data = df[df['Company'] == 'Google']"
   ]
  },
  {
   "cell_type": "code",
   "execution_count": 3,
   "metadata": {},
   "outputs": [],
   "source": [
    "facebook_data.to_csv('facebook_data.csv', index=False)\n",
    "apple_data.to_csv('apple_data.csv', index=False)\n",
    "amazon_data.to_csv('amazon_data.csv', index=False)\n",
    "netflix_data.to_csv('netflix_data.csv', index=False)\n",
    "google_data.to_csv('google_data.csv', index=False)"
   ]
  },
  {
   "cell_type": "code",
   "execution_count": 4,
   "metadata": {},
   "outputs": [
    {
     "data": {
      "text/html": [
       "<div>\n",
       "<style scoped>\n",
       "    .dataframe tbody tr th:only-of-type {\n",
       "        vertical-align: middle;\n",
       "    }\n",
       "\n",
       "    .dataframe tbody tr th {\n",
       "        vertical-align: top;\n",
       "    }\n",
       "\n",
       "    .dataframe thead th {\n",
       "        text-align: right;\n",
       "    }\n",
       "</style>\n",
       "<table border=\"1\" class=\"dataframe\">\n",
       "  <thead>\n",
       "    <tr style=\"text-align: right;\">\n",
       "      <th></th>\n",
       "      <th>Revenue</th>\n",
       "      <th>Gross Profit</th>\n",
       "      <th>Operating Income</th>\n",
       "      <th>Cash Ratio</th>\n",
       "      <th>Total Assets</th>\n",
       "      <th>Total Equity</th>\n",
       "      <th>Trailing Twelve Months (TTM) Revenue</th>\n",
       "      <th>Trailing Twelve Months (TTM) EBITDA</th>\n",
       "      <th>Trailing Twelve Months (TTM) Earnings</th>\n",
       "      <th>Dividends Paid</th>\n",
       "      <th>Dividend Yield</th>\n",
       "      <th>Annual Dividend Rate</th>\n",
       "      <th>Beta</th>\n",
       "      <th>Beta (5Y)</th>\n",
       "    </tr>\n",
       "  </thead>\n",
       "  <tbody>\n",
       "    <tr>\n",
       "      <th>Facebook</th>\n",
       "      <td>3125</td>\n",
       "      <td>3125</td>\n",
       "      <td>3125</td>\n",
       "      <td>3125</td>\n",
       "      <td>3125</td>\n",
       "      <td>3125</td>\n",
       "      <td>3125</td>\n",
       "      <td>3125</td>\n",
       "      <td>3125</td>\n",
       "      <td>NaN</td>\n",
       "      <td>NaN</td>\n",
       "      <td>NaN</td>\n",
       "      <td>NaN</td>\n",
       "      <td>NaN</td>\n",
       "    </tr>\n",
       "    <tr>\n",
       "      <th>Apple</th>\n",
       "      <td>4983</td>\n",
       "      <td>4983</td>\n",
       "      <td>4983</td>\n",
       "      <td>4983</td>\n",
       "      <td>4983</td>\n",
       "      <td>4983</td>\n",
       "      <td>4983</td>\n",
       "      <td>4983</td>\n",
       "      <td>4983</td>\n",
       "      <td>NaN</td>\n",
       "      <td>NaN</td>\n",
       "      <td>NaN</td>\n",
       "      <td>NaN</td>\n",
       "      <td>NaN</td>\n",
       "    </tr>\n",
       "    <tr>\n",
       "      <th>Amazon</th>\n",
       "      <td>4982</td>\n",
       "      <td>4982</td>\n",
       "      <td>4982</td>\n",
       "      <td>4982</td>\n",
       "      <td>4982</td>\n",
       "      <td>4982</td>\n",
       "      <td>4982</td>\n",
       "      <td>4982</td>\n",
       "      <td>4982</td>\n",
       "      <td>4982.0</td>\n",
       "      <td>4982.0</td>\n",
       "      <td>4982.0</td>\n",
       "      <td>NaN</td>\n",
       "      <td>NaN</td>\n",
       "    </tr>\n",
       "    <tr>\n",
       "      <th>Netflix</th>\n",
       "      <td>4982</td>\n",
       "      <td>4982</td>\n",
       "      <td>4982</td>\n",
       "      <td>4982</td>\n",
       "      <td>4982</td>\n",
       "      <td>4982</td>\n",
       "      <td>4982</td>\n",
       "      <td>4982</td>\n",
       "      <td>4982</td>\n",
       "      <td>4982.0</td>\n",
       "      <td>4982.0</td>\n",
       "      <td>4982.0</td>\n",
       "      <td>4982.0</td>\n",
       "      <td>4982.0</td>\n",
       "    </tr>\n",
       "    <tr>\n",
       "      <th>Google</th>\n",
       "      <td>4983</td>\n",
       "      <td>4983</td>\n",
       "      <td>4983</td>\n",
       "      <td>4983</td>\n",
       "      <td>4983</td>\n",
       "      <td>4983</td>\n",
       "      <td>4983</td>\n",
       "      <td>4983</td>\n",
       "      <td>4983</td>\n",
       "      <td>NaN</td>\n",
       "      <td>NaN</td>\n",
       "      <td>NaN</td>\n",
       "      <td>NaN</td>\n",
       "      <td>NaN</td>\n",
       "    </tr>\n",
       "  </tbody>\n",
       "</table>\n",
       "</div>"
      ],
      "text/plain": [
       "          Revenue  Gross Profit  Operating Income  Cash Ratio  Total Assets  \\\n",
       "Facebook     3125          3125              3125        3125          3125   \n",
       "Apple        4983          4983              4983        4983          4983   \n",
       "Amazon       4982          4982              4982        4982          4982   \n",
       "Netflix      4982          4982              4982        4982          4982   \n",
       "Google       4983          4983              4983        4983          4983   \n",
       "\n",
       "          Total Equity  Trailing Twelve Months (TTM) Revenue  \\\n",
       "Facebook          3125                                  3125   \n",
       "Apple             4983                                  4983   \n",
       "Amazon            4982                                  4982   \n",
       "Netflix           4982                                  4982   \n",
       "Google            4983                                  4983   \n",
       "\n",
       "          Trailing Twelve Months (TTM) EBITDA  \\\n",
       "Facebook                                 3125   \n",
       "Apple                                    4983   \n",
       "Amazon                                   4982   \n",
       "Netflix                                  4982   \n",
       "Google                                   4983   \n",
       "\n",
       "          Trailing Twelve Months (TTM) Earnings  Dividends Paid  \\\n",
       "Facebook                                   3125             NaN   \n",
       "Apple                                      4983             NaN   \n",
       "Amazon                                     4982          4982.0   \n",
       "Netflix                                    4982          4982.0   \n",
       "Google                                     4983             NaN   \n",
       "\n",
       "          Dividend Yield  Annual Dividend Rate    Beta  Beta (5Y)  \n",
       "Facebook             NaN                   NaN     NaN        NaN  \n",
       "Apple                NaN                   NaN     NaN        NaN  \n",
       "Amazon            4982.0                4982.0     NaN        NaN  \n",
       "Netflix           4982.0                4982.0  4982.0     4982.0  \n",
       "Google               NaN                   NaN     NaN        NaN  "
      ]
     },
     "metadata": {},
     "output_type": "display_data"
    }
   ],
   "source": [
    "facebook_nulls = pd.DataFrame(facebook_data[facebook_data.columns[facebook_data.isnull().sum() != 0]].isnull().sum())\n",
    "apple_nulls = pd.DataFrame(apple_data[apple_data.columns[apple_data.isnull().sum() != 0]].isnull().sum())\n",
    "amazon_nulls = pd.DataFrame(amazon_data[amazon_data.columns[amazon_data.isnull().sum() != 0]].isnull().sum())\n",
    "netflix_nulls = pd.DataFrame(netflix_data[netflix_data.columns[netflix_data.isnull().sum() != 0]].isnull().sum())\n",
    "google_nulls = pd.DataFrame(google_data[google_data.columns[google_data.isnull().sum() != 0]].isnull().sum())\n",
    "\n",
    "combined_nulls = pd.concat([facebook_nulls.T, apple_nulls.T, amazon_nulls.T, netflix_nulls.T, google_nulls.T], axis=0)\n",
    "\n",
    "combined_nulls.index = ['Facebook', 'Apple', 'Amazon', 'Netflix', 'Google']\n",
    "\n",
    "display(combined_nulls)"
   ]
  },
  {
   "cell_type": "code",
   "execution_count": 5,
   "metadata": {},
   "outputs": [
    {
     "data": {
      "text/plain": [
       "23055"
      ]
     },
     "execution_count": 5,
     "metadata": {},
     "output_type": "execute_result"
    }
   ],
   "source": [
    "3125+(4983*2)+(4982*2)\n"
   ]
  },
  {
   "cell_type": "code",
   "execution_count": 6,
   "metadata": {},
   "outputs": [],
   "source": [
    "# Revenue\tGross Profit\tOperating Income\tCash Ratio\tTotal Assets\tTotal Equity\tTrailing Twelve Months (TTM) Revenue\tTrailing Twelve Months (TTM) EBITDA\tTrailing Twelve Months (TTM) Earnings\n",
    "#  To remove dd =df.dropna(axis=1, thresh=int(df.shape[0] * 0.5)) \n",
    "\n",
    "facebook = facebook_data.dropna(axis=1, thresh=int(facebook_data.shape[0] * 0.5))\n",
    "apple = apple_data.dropna(axis=1, thresh=int(apple_data.shape[0] * 0.5))\n",
    "amazon = amazon_data.dropna(axis=1, thresh=int(amazon_data.shape[0] * 0.5))\n",
    "netflix = netflix_data.dropna(axis=1, thresh=int(netflix_data.shape[0] * 0.5))\n",
    "google = google_data.dropna(axis=1, thresh=int(google_data.shape[0] * 0.5))\n"
   ]
  },
  {
   "cell_type": "code",
   "execution_count": 7,
   "metadata": {},
   "outputs": [
    {
     "data": {
      "text/html": [
       "<div>\n",
       "<style scoped>\n",
       "    .dataframe tbody tr th:only-of-type {\n",
       "        vertical-align: middle;\n",
       "    }\n",
       "\n",
       "    .dataframe tbody tr th {\n",
       "        vertical-align: top;\n",
       "    }\n",
       "\n",
       "    .dataframe thead th {\n",
       "        text-align: right;\n",
       "    }\n",
       "</style>\n",
       "<table border=\"1\" class=\"dataframe\">\n",
       "  <thead>\n",
       "    <tr style=\"text-align: right;\">\n",
       "      <th></th>\n",
       "    </tr>\n",
       "  </thead>\n",
       "  <tbody>\n",
       "    <tr>\n",
       "      <th>Facebook</th>\n",
       "    </tr>\n",
       "    <tr>\n",
       "      <th>Apple</th>\n",
       "    </tr>\n",
       "    <tr>\n",
       "      <th>Amazon</th>\n",
       "    </tr>\n",
       "    <tr>\n",
       "      <th>Netflix</th>\n",
       "    </tr>\n",
       "    <tr>\n",
       "      <th>Google</th>\n",
       "    </tr>\n",
       "  </tbody>\n",
       "</table>\n",
       "</div>"
      ],
      "text/plain": [
       "Empty DataFrame\n",
       "Columns: []\n",
       "Index: [Facebook, Apple, Amazon, Netflix, Google]"
      ]
     },
     "metadata": {},
     "output_type": "display_data"
    }
   ],
   "source": [
    "facebook_null = pd.DataFrame(facebook[facebook.columns[facebook.isnull().sum() != 0]].isnull().sum())\n",
    "apple_null = pd.DataFrame(apple[apple.columns[apple.isnull().sum() != 0]].isnull().sum())\n",
    "amazon_null = pd.DataFrame(amazon[amazon.columns[amazon.isnull().sum() != 0]].isnull().sum())\n",
    "netflix_null = pd.DataFrame(netflix[netflix.columns[netflix.isnull().sum() != 0]].isnull().sum())\n",
    "google_null = pd.DataFrame(google[google.columns[google.isnull().sum() != 0]].isnull().sum())\n",
    "\n",
    "combined_null = pd.concat([facebook_null.T, apple_null.T, amazon_null.T, netflix_null.T, google_null.T], axis=0)\n",
    "\n",
    "combined_null.index = ['Facebook', 'Apple', 'Amazon', 'Netflix', 'Google']\n",
    "\n",
    "display(combined_null)\n",
    "\n"
   ]
  }
 ],
 "metadata": {
  "kernelspec": {
   "display_name": "Python 3",
   "language": "python",
   "name": "python3"
  },
  "language_info": {
   "codemirror_mode": {
    "name": "ipython",
    "version": 3
   },
   "file_extension": ".py",
   "mimetype": "text/x-python",
   "name": "python",
   "nbconvert_exporter": "python",
   "pygments_lexer": "ipython3",
   "version": "3.13.0"
  }
 },
 "nbformat": 4,
 "nbformat_minor": 2
}
