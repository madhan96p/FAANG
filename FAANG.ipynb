{
 "cells": [
  {
   "cell_type": "markdown",
   "metadata": {},
   "source": [
    "<div><center>\n",
    "<h1><strong>FAANG <em>Project</em></strong> </h1></center>\n",
    "</div>"
   ]
  },
  {
   "cell_type": "markdown",
   "metadata": {},
   "source": [
    "# Splitting the FAANG Dataset"
   ]
  },
  {
   "cell_type": "markdown",
   "metadata": {},
   "source": [
    "## Overview"
   ]
  },
  {
   "cell_type": "markdown",
   "metadata": {},
   "source": [
    "The **FAANG dataset** contains stock data for five companies:  \n",
    "**Apple, Amazon, Facebook, Google, and Netflix.**\n",
    "\n",
    "- **Key Issue**: The dataset cannot be cleaned for outliers as it combines data from five different companies.  \n",
    "- **Solution**: Split the dataset into separate subsets, one for each company.\n",
    "\n",
    "---\n"
   ]
  },
  {
   "cell_type": "markdown",
   "metadata": {},
   "source": [
    "\n",
    "## Observations"
   ]
  },
  {
   "cell_type": "markdown",
   "metadata": {},
   "source": [
    "\n",
    "1. **Amazon and Netflix**  \n",
    "   - These companies do not provide dividends.  \n",
    "   - Focus is on reinvestment rather than distributing profits to shareholders.\n",
    "\n",
    "2. **Columns with Unique Values**  \n",
    "   - Only the following columns provide unique and reliable data across companies:  \n",
    "     - `Company`,`Ticker`, `Open`, `High` ,`Low`, `Adj Close`, `Close`, `Volume`\n",
    "\n",
    "3. **Suspicious Data**  \n",
    "   - Some columns like `Market Cap`, `PE Ratio`, `Target`, `EPS`, and `Analyst Recommendations` show the same values across companies for the date **10/17/2024**.  \n",
    "   - These values may have been manually filled or copied from other data (possibly from **10/16/2024**) and are not reliable for analysis.\n",
    "   - **18-10-2024** - *Market holiday* but there is a data available\n",
    "\n",
    "---\n"
   ]
  },
  {
   "cell_type": "markdown",
   "metadata": {},
   "source": [
    "\n",
    "## Next Steps"
   ]
  },
  {
   "cell_type": "markdown",
   "metadata": {},
   "source": [
    "\n",
    "1. **Data Splitting**  \n",
    "   - Split the FAANG dataset into five separate datasets, one for each company.\n",
    "\n",
    "2. **Column Selection** - In Splited Dataset\n",
    "   - Retain only the unique and reliable columns:\n",
    "     - `Company`, `Ticker`, `Open`, `High`, `Low`, `Adj Close`, `Close`, and `Volume`.\n",
    "\n",
    "3. **Exclude Manual Data** - In Splited Dataset \n",
    "   - Exclude the data for **10/17/2024** as it appears to be inconsistent and unreliable.\n",
    "\n",
    "---"
   ]
  },
  {
   "cell_type": "markdown",
   "metadata": {},
   "source": [
    "---"
   ]
  },
  {
   "cell_type": "code",
   "execution_count": 21,
   "metadata": {},
   "outputs": [],
   "source": [
    "import pandas as pd\n",
    "pd.set_option('display.max_columns', None)  # Shows all columns\n",
    "pd.set_option('display.width', None)  # Shows full width\n",
    "pd.set_option('display.max_colwidth', None) # Shows full content of the columns\n",
    "\n",
    "df = pd.read_excel(r'C:\\Users\\Windows 11\\OneDrive\\Desktop\\F A A N G\\FAANG_CSV\\FAANG.xlsx')"
   ]
  },
  {
   "cell_type": "code",
   "execution_count": 35,
   "metadata": {},
   "outputs": [
    {
     "data": {
      "text/plain": [
       "Index(['Company', 'Ticker', 'Date', 'Open', 'High', 'Low', 'Close',\n",
       "       'Adj Close', 'Volume', 'Market Cap', 'PE Ratio', 'Beta', 'EPS',\n",
       "       'Forward PE', 'Revenue', 'Gross Profit', 'Operating Income',\n",
       "       'Net Income', 'Debt to Equity', 'Return on Equity (ROE)',\n",
       "       'Current Ratio', 'Dividends Paid', 'Dividend Yield',\n",
       "       'Quarterly Revenue Growth', 'Analyst Recommendation', 'Target Price',\n",
       "       'Free Cash Flow', 'Operating Margin', 'Profit Margin', 'Cash Ratio',\n",
       "       'Quick Ratio', 'Price to Book Ratio', 'Enterprise Value', 'Total Debt',\n",
       "       'Total Assets', 'Total Equity', 'Beta (5Y)', 'Annual Dividend Rate',\n",
       "       'Trailing Twelve Months (TTM) Revenue',\n",
       "       'Trailing Twelve Months (TTM) EBITDA',\n",
       "       'Trailing Twelve Months (TTM) Earnings'],\n",
       "      dtype='object')"
      ]
     },
     "execution_count": 35,
     "metadata": {},
     "output_type": "execute_result"
    }
   ],
   "source": [
    "df.columns"
   ]
  },
  {
   "cell_type": "code",
   "execution_count": 43,
   "metadata": {},
   "outputs": [],
   "source": [
    "\n",
    "# Get the data for the specified date (2024-10-17)\n",
    "close = df[df['Date'] == '2024-10-17'][['Company', 'Close', 'Volume', 'Market Cap']]\n",
    "target = df[df['Date'] == '2024-10-17'][['Company', 'Target Price']]\n",
    "\n",
    "# Merge the 'close' and 'target' DataFrames on 'Company' to align the data\n",
    "merged_data = pd.merge(close, target, on='Company')\n",
    "\n",
    "# Calculate the price difference for each company\n",
    "merged_data['Price Difference'] =  merged_data['Target Price']\n"
   ]
  },
  {
   "cell_type": "code",
   "execution_count": 45,
   "metadata": {},
   "outputs": [
    {
     "data": {
      "text/plain": [
       "0     8.630006\n",
       "1    24.650007\n",
       "2    37.270007\n",
       "3    31.370001\n",
       "4    31.229976\n",
       "Name: Price Difference, dtype: float64"
      ]
     },
     "execution_count": 45,
     "metadata": {},
     "output_type": "execute_result"
    }
   ],
   "source": [
    "merged_data['Price Difference']"
   ]
  },
  {
   "cell_type": "code",
   "execution_count": 15,
   "metadata": {},
   "outputs": [
    {
     "name": "stdout",
     "output_type": "stream",
     "text": [
      "Company\n",
      "Apple       4983\n",
      "Google      4983\n",
      "Amazon      4982\n",
      "Netflix     4982\n",
      "Facebook    3125\n",
      "Name: count, dtype: int64\n",
      "\n",
      "Num of Market Cap in 23055 is Market Cap\n",
      "3575090000000    4983\n",
      "2024580000000    4983\n",
      "1996000000000    4982\n",
      "324753000000     4982\n",
      "1465350000000    3125\n",
      "Name: count, dtype: int64\n",
      "\n",
      "Num of Analyst Recommendation in 23055 is Analyst Recommendation\n",
      "buy    23055\n",
      "Name: count, dtype: int64\n",
      "\n",
      "Num of Dividends Paid in 23055 is ['Apple' 'Facebook' 'Google' 'Amazon' 'Netflix'] Dividends Paid\n",
      "0.25    4983\n",
      "0.20    4983\n",
      "0.50    3125\n",
      "Name: count, dtype: int64\n"
     ]
    }
   ],
   "source": [
    "print(df['Company'].value_counts())\n",
    "print(f'\\nNum of Market Cap in {df.shape[0]} is {df['Market Cap'].value_counts()}')\n",
    "print(f'\\nNum of Analyst Recommendation in {df.shape[0]} is {df['Analyst Recommendation'].value_counts()}')\n",
    "print(f'\\nNum of Dividends Paid in {df.shape[0]} is {df['Company'].unique()} {df['Dividends Paid'].value_counts()}')"
   ]
  },
  {
   "cell_type": "markdown",
   "metadata": {},
   "source": [
    "## Wrong Moving Averages Across Companies:\n",
    "\n",
    "**Problem:** Moving averages mix data from different companies (e.g., `Facebook data` spills into `Apple`).\n",
    "\n",
    "**Fix:** Split the dataset by company before calculating moving averages.\n"
   ]
  },
  {
   "cell_type": "markdown",
   "metadata": {},
   "source": [
    "\n",
    "## Missing Data in Moving Averages:\n",
    "\n",
    "**Problem:** First 7 or 30 rows have *NaN* values because there isn’t enough data.\n",
    "\n",
    "**Fix:** Either keep these rows as they are, drop them, or fill with placeholders if needed."
   ]
  },
  {
   "cell_type": "markdown",
   "metadata": {},
   "source": [
    "## Date Issues:\n",
    "**Problem:** Dates might not align across companies (e.g., missing dates *due to holidays*)."
   ]
  },
  {
   "cell_type": "code",
   "execution_count": 16,
   "metadata": {},
   "outputs": [],
   "source": [
    "facebook_data = df[df['Company'] == 'Facebook']\n",
    "apple_data = df[df['Company'] == 'Apple']\n",
    "amazon_data = df[df['Company'] == 'Amazon']\n",
    "netflix_data = df[df['Company'] == 'Netflix']\n",
    "google_data = df[df['Company'] == 'Google']"
   ]
  },
  {
   "cell_type": "code",
   "execution_count": 17,
   "metadata": {},
   "outputs": [],
   "source": [
    "\n",
    "facebook_data.to_csv('facebook_data.csv', index=False)\n",
    "apple_data.to_csv('apple_data.csv', index=False)\n",
    "amazon_data.to_csv('amazon_data.csv', index=False)\n",
    "netflix_data.to_csv('netflix_data.csv', index=False)\n",
    "google_data.to_csv('google_data.csv', index=False)"
   ]
  },
  {
   "cell_type": "code",
   "execution_count": null,
   "metadata": {},
   "outputs": [],
   "source": []
  }
 ],
 "metadata": {
  "kernelspec": {
   "display_name": "Python 3",
   "language": "python",
   "name": "python3"
  },
  "language_info": {
   "codemirror_mode": {
    "name": "ipython",
    "version": 3
   },
   "file_extension": ".py",
   "mimetype": "text/x-python",
   "name": "python",
   "nbconvert_exporter": "python",
   "pygments_lexer": "ipython3",
   "version": "3.13.0"
  }
 },
 "nbformat": 4,
 "nbformat_minor": 2
}
